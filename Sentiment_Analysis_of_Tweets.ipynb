{
  "nbformat": 4,
  "nbformat_minor": 0,
  "metadata": {
    "colab": {
      "name": "Sentiment Analysis of Tweets.ipynb",
      "provenance": [],
      "authorship_tag": "ABX9TyMQif6NOx6b8bbRI1LfW5Fp"
    },
    "kernelspec": {
      "name": "python3",
      "display_name": "Python 3"
    },
    "language_info": {
      "name": "python"
    }
  },
  "cells": [
    {
      "cell_type": "code",
      "execution_count": null,
      "metadata": {
        "id": "hep8dG_Cd1CB"
      },
      "outputs": [],
      "source": [
        "!pip install tweepy\n",
        "!pip install textblob"
      ]
    },
    {
      "cell_type": "code",
      "source": [
        "!python -m textblob.download_corpora"
      ],
      "metadata": {
        "colab": {
          "base_uri": "https://localhost:8080/"
        },
        "id": "mvBdgNVVeCS4",
        "outputId": "194a8705-7c35-48ba-d612-8d803e673815"
      },
      "execution_count": null,
      "outputs": [
        {
          "output_type": "stream",
          "name": "stdout",
          "text": [
            "[nltk_data] Downloading package brown to /root/nltk_data...\n",
            "[nltk_data]   Unzipping corpora/brown.zip.\n",
            "[nltk_data] Downloading package punkt to /root/nltk_data...\n",
            "[nltk_data]   Unzipping tokenizers/punkt.zip.\n",
            "[nltk_data] Downloading package wordnet to /root/nltk_data...\n",
            "[nltk_data]   Unzipping corpora/wordnet.zip.\n",
            "[nltk_data] Downloading package averaged_perceptron_tagger to\n",
            "[nltk_data]     /root/nltk_data...\n",
            "[nltk_data]   Unzipping taggers/averaged_perceptron_tagger.zip.\n",
            "[nltk_data] Downloading package conll2000 to /root/nltk_data...\n",
            "[nltk_data]   Unzipping corpora/conll2000.zip.\n",
            "[nltk_data] Downloading package movie_reviews to /root/nltk_data...\n",
            "[nltk_data]   Unzipping corpora/movie_reviews.zip.\n",
            "Finished.\n"
          ]
        }
      ]
    },
    {
      "cell_type": "code",
      "source": [
        "import re\n",
        "import tweepy\n",
        "import matplotlib.pyplot as plt\n",
        "import numpy as np\n",
        "from tweepy import OAuthHandler\n",
        "from textblob import TextBlob"
      ],
      "metadata": {
        "id": "AHG4TyfQeTu1"
      },
      "execution_count": null,
      "outputs": []
    },
    {
      "cell_type": "code",
      "source": [
        "positive = 0;\n",
        "negative = 0;\n",
        "neutral = 0;\n",
        "\n",
        "class TwitterClient(object):\n",
        "    '''\n",
        "    Generic Twitter Class for sentiment analysis.\n",
        "    '''\n",
        "    def __init__(self):\n",
        "        '''\n",
        "        Class constructor or initialization method.\n",
        "        '''\n",
        "        # keys and tokens from the Twitter Dev Console\n",
        "        consumer_key = 'XXXXXXXXXX'\n",
        "        consumer_secret = 'XXXXXXXXXX'\n",
        "        access_token = 'XXXXXXXXXX'\n",
        "        access_token_secret = 'XXXXXXXXXX'\n",
        "  \n",
        "        # attempt authentication\n",
        "        try:\n",
        "            # create OAuthHandler object\n",
        "            self.auth = OAuthHandler(consumer_key, consumer_secret)\n",
        "            # set access token and secret\n",
        "            self.auth.set_access_token(access_token, access_token_secret)\n",
        "            # create tweepy API object to fetch tweets\n",
        "            self.api = tweepy.API(self.auth)\n",
        "        except:\n",
        "            print(\"Error: Authentication Failed\")\n",
        "  \n",
        "    def clean_tweet(self, tweet):\n",
        "        '''\n",
        "        Utility function to clean tweet text by removing links, special characters\n",
        "        using simple regex statements.\n",
        "        '''\n",
        "        return ' '.join(re.sub(\"(@[A-Za-z0-9]+)|([^0-9A-Za-z \\t])|(\\w+:\\/\\/\\S+)\", \" \", tweet).split())\n",
        "  \n",
        "    def get_tweet_sentiment(self, tweet):\n",
        "        '''\n",
        "        Utility function to classify sentiment of passed tweet\n",
        "        using textblob's sentiment method\n",
        "        '''\n",
        "        # create TextBlob object of passed tweet text\n",
        "        analysis = TextBlob(self.clean_tweet(tweet))\n",
        "        # set sentiment\n",
        "        if analysis.sentiment.polarity > 0:\n",
        "            return 'positive'\n",
        "        elif analysis.sentiment.polarity == 0:\n",
        "            return 'neutral'\n",
        "        else:\n",
        "            return 'negative'\n",
        "  \n",
        "    def get_tweets(self, query, count = 10):\n",
        "        '''\n",
        "        Main function to fetch tweets and parse them.\n",
        "        '''\n",
        "        # empty list to store parsed tweets\n",
        "        tweets = []\n",
        "  \n",
        "        try:\n",
        "            # call twitter api to fetch tweets\n",
        "            fetched_tweets = self.api.search(q = query, count = count)\n",
        "  \n",
        "            # parsing tweets one by one\n",
        "            for tweet in fetched_tweets:\n",
        "                # empty dictionary to store required params of a tweet\n",
        "                parsed_tweet = {}\n",
        "  \n",
        "                # saving text of tweet\n",
        "                parsed_tweet['text'] = tweet.text\n",
        "                # saving sentiment of tweet\n",
        "                parsed_tweet['sentiment'] = self.get_tweet_sentiment(tweet.text)\n",
        "  \n",
        "                # appending parsed tweet to tweets list\n",
        "                if tweet.retweet_count > 0:\n",
        "                    # if tweet has retweets, ensure that it is appended only once\n",
        "                    if parsed_tweet not in tweets:\n",
        "                        tweets.append(parsed_tweet)\n",
        "                else:\n",
        "                    tweets.append(parsed_tweet)\n",
        "  \n",
        "            # return parsed tweets\n",
        "            return tweets\n",
        "  \n",
        "        except tweepy.TweepError as e:\n",
        "            # print error (if any)\n",
        "            print(\"Error : \" + str(e))\n",
        "  \n",
        "def main():\n",
        "    # creating object of TwitterClient Class\n",
        "    api = TwitterClient()\n",
        "    # calling function to get tweets\n",
        "    tweets = api.get_tweets(query = 'Python', count = 200)\n",
        "  \n",
        "    # picking positive tweets from tweets\n",
        "    ptweets = [tweet for tweet in tweets if tweet['sentiment'] == 'positive']\n",
        "    # percentage of positive tweets\n",
        "    print(\"Positive tweets percentage: {} %\".format(100*len(ptweets)/len(tweets)))\n",
        "    positive = 100*len(ptweets)/len(tweets)\n",
        "    # picking negative tweets from tweets\n",
        "    ntweets = [tweet for tweet in tweets if tweet['sentiment'] == 'negative']\n",
        "    # percentage of negative tweets\n",
        "    print(\"Negative tweets percentage: {} %\".format(100*len(ntweets)/len(tweets)))\n",
        "    negative = 100*len(ntweets)/len(tweets)\n",
        "    # percentage of neutral tweets\n",
        "    print(\"Neutral tweets percentage: {} % \\\n",
        "        \".format(100*(len(tweets) -(len( ntweets )+len( ptweets)))/len(tweets)))\n",
        "    neutral = 100*(len(tweets) -(len( ntweets )+len( ptweets)))/len(tweets)\n",
        "    # printing first 5 positive tweets\n",
        "    print(\"\\n\\nPositive tweets:\")\n",
        "    for tweet in ptweets[:10]:\n",
        "        print(tweet['text'])\n",
        "  \n",
        "    # printing first 5 negative tweets\n",
        "    print(\"\\n\\nNegative tweets:\")\n",
        "    for tweet in ntweets[:10]:\n",
        "        print(tweet['text'])\n",
        "\n",
        "    y = np.array([positive, negative, neutral])\n",
        "    labelsForGraph = ['Positive', 'Negative', 'Neutral']\n",
        "    plt.pie(y, labels=labelsForGraph)\n",
        "    plt.legend(title = \"Tweet Sentiments\")\n",
        "    plt.show()\n",
        "  \n",
        "if __name__ == \"__main__\":\n",
        "    # calling main function\n",
        "    main()\n"
      ],
      "metadata": {
        "colab": {
          "base_uri": "https://localhost:8080/",
          "height": 1000
        },
        "id": "xrsRu0ieeWhN",
        "outputId": "ce8eabc2-9137-4857-95db-3cfe95cbc8ae"
      },
      "execution_count": null,
      "outputs": [
        {
          "output_type": "stream",
          "name": "stdout",
          "text": [
            "Positive tweets percentage: 35.9375 %\n",
            "Negative tweets percentage: 4.6875 %\n",
            "Neutral tweets percentage: 59.375 %         \n",
            "\n",
            "\n",
            "Positive tweets:\n",
            "RT @Academics_Team2: Hello, kindly send us details of your assignments and be rest assured of good grades\n",
            "#ESSAYS \n",
            "#HW \n",
            "#DataScience   \n",
            "#MA…\n",
            "RT @Femisonic: Hey Devs Take Survey &amp; Win A Macbook \n",
            "https://t.co/RLKrSgjmK0\n",
            "\n",
            "#Programming\n",
            "#NFTs\n",
            "#cybersecurity #MachineLearning #100DaysOf…\n",
            "RT @ravinderram4: My first pwa app is testing. It is served by genie in digitalocean. Tmorrow I'll upload its first video and talk about it…\n",
            "RT @TheActual_News: #Bungie is globally trending!\n",
            "Bungie, the studio responsible for the creation of Halo and Destiny, two of the gaming wo…\n",
            "RT @glitchbotio: \"Your very silence shows you agree.\"- Euripides #softwareengineer #javascript #python #C++ #golang #nodejs #reactjs #stock…\n",
            "RT @pypackages: The release of identify package 2.4.7 is now available. 🥳\n",
            "\n",
            "File identification library for Python\n",
            "https://t.co/16JeuWi3Iu…\n",
            "RT @MIT_CSAIL: Happy birthday to Python creator Guido van Rossum. The open source language was named after comedy troupe Monty Python: http…\n",
            "The release of identify package 2.4.7 is now available. 🥳\n",
            "\n",
            "File identification library for Python… https://t.co/n9fd6ZydO9\n",
            "\"Your very silence shows you agree.\"- Euripides #softwareengineer #javascript #python #C++ #golang #nodejs #reactjs… https://t.co/nNFdsbMbL9\n",
            "RT @byLilyV: #FEATURED #COURSES\n",
            "Complete #Python #Developer in 2021: Zero to Mastery\n",
            "How to become a #Python3 Developer and get hired\n",
            "Build…\n",
            "\n",
            "\n",
            "Negative tweets:\n",
            "my knowledge on Python is weak\n",
            "RT @CurieuxExplorer: Common #MachineLearning Algorithms\n",
            "\n",
            "🎥 artificialintelligencefacts\n",
            "\n",
            "#Python #Java #100daysofmlcode #HTML5 #RStats #Serv…\n",
            "RT @nexus_essays: HMU rn\n",
            "#Essays due \n",
            "#PowerPoint\n",
            "#History\n",
            "#Geography\n",
            "#Nursing\n",
            "#Economics\n",
            "#Biology\n",
            "#Paper write\n",
            "#Homework\n",
            "#Computer science…\n"
          ]
        },
        {
          "output_type": "display_data",
          "data": {
            "image/png": "[encoded data removed]",
            "text/plain": [
              "<Figure size 432x288 with 1 Axes>"
            ]
          },
          "metadata": {}
        }
      ]
    },
    {
      "cell_type": "code",
      "source": [
        ""
      ],
      "metadata": {
        "id": "NI87sckBuB-Y"
      },
      "execution_count": null,
      "outputs": []
    }
  ]
}